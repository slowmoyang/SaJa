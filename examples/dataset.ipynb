{
 "cells": [
  {
   "cell_type": "code",
   "execution_count": 1,
   "metadata": {},
   "outputs": [],
   "source": [
    "from tempfile import NamedTemporaryFile\n",
    "import numpy as np\n",
    "import uproot\n",
    "import awkward as ak\n",
    "import torch\n",
    "from torch.utils.data import DataLoader\n",
    "from saja.dataset import JetPartonAssignmentDataset\n",
    "\n",
    "np.random.seed(1337)\n",
    "torch.manual_seed(1337)"
   ]
  },
  {
   "cell_type": "markdown",
   "metadata": {},
   "source": [
    "# Generate toy dataset"
   ]
  },
  {
   "cell_type": "code",
   "execution_count": 2,
   "metadata": {},
   "outputs": [],
   "source": [
    "num_events = 1000\n",
    "min_num_jets = 6\n",
    "mode_num_jets = 8\n",
    "max_num_jets = 16\n",
    "\n",
    "treepath = 'tree'\n",
    "data_branches = ['pt', 'eta', 'phi', 'mass']\n",
    "target_branch = 'target'"
   ]
  },
  {
   "cell_type": "code",
   "execution_count": 3,
   "metadata": {},
   "outputs": [],
   "source": [
    "file = NamedTemporaryFile()"
   ]
  },
  {
   "cell_type": "code",
   "execution_count": 4,
   "metadata": {},
   "outputs": [
    {
     "name": "stdout",
     "output_type": "stream",
     "text": [
      "name                 | typename                 | interpretation                \n",
      "---------------------+--------------------------+-------------------------------\n",
      "npt                  | int32_t                  | AsDtype('>i4')\n",
      "pt                   | double[]                 | AsJagged(AsDtype('>f8'))\n",
      "neta                 | int32_t                  | AsDtype('>i4')\n",
      "eta                  | double[]                 | AsJagged(AsDtype('>f8'))\n",
      "nphi                 | int32_t                  | AsDtype('>i4')\n",
      "phi                  | double[]                 | AsJagged(AsDtype('>f8'))\n",
      "nmass                | int32_t                  | AsDtype('>i4')\n",
      "mass                 | double[]                 | AsJagged(AsDtype('>f8'))\n",
      "ntarget              | int32_t                  | AsDtype('>i4')\n",
      "target               | int64_t[]                | AsJagged(AsDtype('>i8'))\n"
     ]
    }
   ],
   "source": [
    "root_file = uproot.writing.recreate(file)\n",
    "num_jets = np.random.poisson(lam=mode_num_jets, size=(num_events, )).clip(min_num_jets, max_num_jets)\n",
    "\n",
    "# generate fake jets\n",
    "branches = {each: ak.Array([np.random.randn(each) for each in num_jets]) for each in data_branches}\n",
    "# jet-parton matching information\n",
    "branches[target_branch] = ak.Array([np.random.randint(0, 4, each) for each in num_jets])\n",
    "\n",
    "root_file[treepath] = branches\n",
    "del branches\n",
    "\n",
    "root_file[treepath].show()\n",
    "# do not cloese `root_file`. closing `root_file` also closes `file`."
   ]
  },
  {
   "cell_type": "markdown",
   "metadata": {},
   "source": [
    "# Read toy dataset"
   ]
  },
  {
   "cell_type": "code",
   "execution_count": 5,
   "metadata": {},
   "outputs": [
    {
     "name": "stderr",
     "output_type": "stream",
     "text": [
      "Total = 1000, Processed: 1000 (100.00 %): : 0it [00:00, ?it/s]\n"
     ]
    }
   ],
   "source": [
    "dataset = JetPartonAssignmentDataset(\n",
    "    path=file.name,\n",
    "    treepath=treepath,\n",
    "    data_branches=data_branches,\n",
    "    target_branch=target_branch)"
   ]
  },
  {
   "cell_type": "markdown",
   "metadata": {},
   "source": [
    "The dataset consists of a list of tuples, each corresponding to an event. Each event has a different number of events."
   ]
  },
  {
   "cell_type": "code",
   "execution_count": 6,
   "metadata": {},
   "outputs": [
    {
     "name": "stdout",
     "output_type": "stream",
     "text": [
      "len(dataset._examples)=1000\n"
     ]
    },
    {
     "data": {
      "text/plain": [
       "[(tensor([[-0.6776,  0.5942,  0.7488,  0.0574],\n",
       "          [-1.4115,  0.1182, -0.3210, -0.1245],\n",
       "          [ 0.7120, -0.6514, -0.5886,  0.3052],\n",
       "          [-1.2425,  0.9872,  1.7782,  0.4447],\n",
       "          [ 2.0905,  0.2118,  1.3702, -1.2335],\n",
       "          [ 0.2330,  0.4097, -0.3645,  0.3047]]),\n",
       "  tensor([2, 0, 3, 3, 1, 1])),\n",
       " (tensor([[-0.0620, -1.4998,  3.8013, -0.3047],\n",
       "          [-1.3476,  0.2066,  1.3505, -1.9128],\n",
       "          [ 1.7316,  0.0252, -0.2951,  0.5309],\n",
       "          [ 0.0986,  0.4875, -1.2266, -0.4525],\n",
       "          [-0.4580, -1.1613, -0.8565, -0.0262],\n",
       "          [-0.1684, -0.1613,  0.9772,  1.9362],\n",
       "          [ 0.2739,  0.0898, -0.3537,  0.0393],\n",
       "          [-0.4079,  0.4976, -0.0230, -0.2425],\n",
       "          [-0.2222, -0.5419, -0.6185, -1.7311],\n",
       "          [-0.0950, -0.2303, -0.3976,  2.2172]]),\n",
       "  tensor([2, 2, 0, 1, 2, 3, 2, 0, 0, 1])),\n",
       " (tensor([[ 0.3444, -0.2417, -1.5746, -1.0111],\n",
       "          [-0.4233,  0.7770, -0.4817, -0.7660],\n",
       "          [ 0.0049, -0.9113, -0.6292,  0.1322],\n",
       "          [-0.8815,  0.0031, -1.1421, -1.7939],\n",
       "          [ 1.1583,  1.5034,  0.9224,  0.2930],\n",
       "          [ 0.0172,  0.2992,  0.7981,  0.4510],\n",
       "          [-0.0807, -0.2297,  0.6868, -0.2198],\n",
       "          [ 0.7581, -0.9877,  1.5219, -0.8723]]),\n",
       "  tensor([1, 2, 0, 1, 2, 1, 1, 1]))]"
      ]
     },
     "execution_count": 6,
     "metadata": {},
     "output_type": "execute_result"
    }
   ],
   "source": [
    "print(f'{len(dataset._examples)=}')\n",
    "dataset._examples[:3]"
   ]
  },
  {
   "cell_type": "code",
   "execution_count": 7,
   "metadata": {},
   "outputs": [
    {
     "name": "stdout",
     "output_type": "stream",
     "text": [
      "idx=0: input.shape=torch.Size([6, 4]), target.shape=torch.Size([6])\n",
      "input=tensor([[-0.6776,  0.5942,  0.7488,  0.0574],\n",
      "        [-1.4115,  0.1182, -0.3210, -0.1245],\n",
      "        [ 0.7120, -0.6514, -0.5886,  0.3052],\n",
      "        [-1.2425,  0.9872,  1.7782,  0.4447],\n",
      "        [ 2.0905,  0.2118,  1.3702, -1.2335],\n",
      "        [ 0.2330,  0.4097, -0.3645,  0.3047]])\n",
      "target=tensor([2, 0, 3, 3, 1, 1])\n",
      "\n",
      "idx=1: input.shape=torch.Size([10, 4]), target.shape=torch.Size([10])\n",
      "input=tensor([[-0.0620, -1.4998,  3.8013, -0.3047],\n",
      "        [-1.3476,  0.2066,  1.3505, -1.9128],\n",
      "        [ 1.7316,  0.0252, -0.2951,  0.5309],\n",
      "        [ 0.0986,  0.4875, -1.2266, -0.4525],\n",
      "        [-0.4580, -1.1613, -0.8565, -0.0262],\n",
      "        [-0.1684, -0.1613,  0.9772,  1.9362],\n",
      "        [ 0.2739,  0.0898, -0.3537,  0.0393],\n",
      "        [-0.4079,  0.4976, -0.0230, -0.2425],\n",
      "        [-0.2222, -0.5419, -0.6185, -1.7311],\n",
      "        [-0.0950, -0.2303, -0.3976,  2.2172]])\n",
      "target=tensor([2, 2, 0, 1, 2, 3, 2, 0, 0, 1])\n",
      "\n",
      "idx=2: input.shape=torch.Size([8, 4]), target.shape=torch.Size([8])\n",
      "input=tensor([[ 0.3444, -0.2417, -1.5746, -1.0111],\n",
      "        [-0.4233,  0.7770, -0.4817, -0.7660],\n",
      "        [ 0.0049, -0.9113, -0.6292,  0.1322],\n",
      "        [-0.8815,  0.0031, -1.1421, -1.7939],\n",
      "        [ 1.1583,  1.5034,  0.9224,  0.2930],\n",
      "        [ 0.0172,  0.2992,  0.7981,  0.4510],\n",
      "        [-0.0807, -0.2297,  0.6868, -0.2198],\n",
      "        [ 0.7581, -0.9877,  1.5219, -0.8723]])\n",
      "target=tensor([1, 2, 0, 1, 2, 1, 1, 1])\n",
      "\n"
     ]
    }
   ],
   "source": [
    "for idx in range(3):\n",
    "    input, target = dataset[idx]\n",
    "    print(f'{idx=}: {input.shape=}, {target.shape=}')\n",
    "    print(f'{input=}')\n",
    "    print(f'{target=}')\n",
    "    print()"
   ]
  },
  {
   "cell_type": "markdown",
   "metadata": {},
   "source": [
    "# Collate events with different numbers of jets"
   ]
  },
  {
   "cell_type": "markdown",
   "metadata": {},
   "source": [
    "Since PyTorch's default collate function can not process tensors with different sizes, we need to use the `collate` classmethod of `JetPartonAssignmentDataset`. `JetPartonAssignmentDataset.collate` takes a list of events and pads them with zeros so that they have the same length. `collate` also creates a mask indicating which rows are real jets and not zero pads."
   ]
  },
  {
   "cell_type": "code",
   "execution_count": 8,
   "metadata": {},
   "outputs": [],
   "source": [
    "batch = dataset.collate([dataset[idx] for idx in range(10)])"
   ]
  },
  {
   "cell_type": "code",
   "execution_count": 9,
   "metadata": {},
   "outputs": [
    {
     "name": "stdout",
     "output_type": "stream",
     "text": [
      "* idx=0\n",
      "    * data (jets): tensor([[-0.6776,  0.5942,  0.7488,  0.0574],\n",
      "        [-1.4115,  0.1182, -0.3210, -0.1245],\n",
      "        [ 0.7120, -0.6514, -0.5886,  0.3052],\n",
      "        [-1.2425,  0.9872,  1.7782,  0.4447],\n",
      "        [ 2.0905,  0.2118,  1.3702, -1.2335],\n",
      "        [ 0.2330,  0.4097, -0.3645,  0.3047],\n",
      "        [ 0.0000,  0.0000,  0.0000,  0.0000],\n",
      "        [ 0.0000,  0.0000,  0.0000,  0.0000],\n",
      "        [ 0.0000,  0.0000,  0.0000,  0.0000],\n",
      "        [ 0.0000,  0.0000,  0.0000,  0.0000],\n",
      "        [ 0.0000,  0.0000,  0.0000,  0.0000],\n",
      "        [ 0.0000,  0.0000,  0.0000,  0.0000],\n",
      "        [ 0.0000,  0.0000,  0.0000,  0.0000],\n",
      "        [ 0.0000,  0.0000,  0.0000,  0.0000],\n",
      "        [ 0.0000,  0.0000,  0.0000,  0.0000]])\n",
      "    * target (jet-parton matching): tensor([2, 0, 3, 3, 1, 1, 0, 0, 0, 0, 0, 0, 0, 0, 0])\n",
      "    * mask: tensor([ True,  True,  True,  True,  True,  True, False, False, False, False,\n",
      "        False, False, False, False, False])\n",
      "\n",
      "* idx=1\n",
      "    * data (jets): tensor([[-0.0620, -1.4998,  3.8013, -0.3047],\n",
      "        [-1.3476,  0.2066,  1.3505, -1.9128],\n",
      "        [ 1.7316,  0.0252, -0.2951,  0.5309],\n",
      "        [ 0.0986,  0.4875, -1.2266, -0.4525],\n",
      "        [-0.4580, -1.1613, -0.8565, -0.0262],\n",
      "        [-0.1684, -0.1613,  0.9772,  1.9362],\n",
      "        [ 0.2739,  0.0898, -0.3537,  0.0393],\n",
      "        [-0.4079,  0.4976, -0.0230, -0.2425],\n",
      "        [-0.2222, -0.5419, -0.6185, -1.7311],\n",
      "        [-0.0950, -0.2303, -0.3976,  2.2172],\n",
      "        [ 0.0000,  0.0000,  0.0000,  0.0000],\n",
      "        [ 0.0000,  0.0000,  0.0000,  0.0000],\n",
      "        [ 0.0000,  0.0000,  0.0000,  0.0000],\n",
      "        [ 0.0000,  0.0000,  0.0000,  0.0000],\n",
      "        [ 0.0000,  0.0000,  0.0000,  0.0000]])\n",
      "    * target (jet-parton matching): tensor([2, 2, 0, 1, 2, 3, 2, 0, 0, 1, 0, 0, 0, 0, 0])\n",
      "    * mask: tensor([ True,  True,  True,  True,  True,  True,  True,  True,  True,  True,\n",
      "        False, False, False, False, False])\n",
      "\n",
      "* idx=2\n",
      "    * data (jets): tensor([[ 0.3444, -0.2417, -1.5746, -1.0111],\n",
      "        [-0.4233,  0.7770, -0.4817, -0.7660],\n",
      "        [ 0.0049, -0.9113, -0.6292,  0.1322],\n",
      "        [-0.8815,  0.0031, -1.1421, -1.7939],\n",
      "        [ 1.1583,  1.5034,  0.9224,  0.2930],\n",
      "        [ 0.0172,  0.2992,  0.7981,  0.4510],\n",
      "        [-0.0807, -0.2297,  0.6868, -0.2198],\n",
      "        [ 0.7581, -0.9877,  1.5219, -0.8723],\n",
      "        [ 0.0000,  0.0000,  0.0000,  0.0000],\n",
      "        [ 0.0000,  0.0000,  0.0000,  0.0000],\n",
      "        [ 0.0000,  0.0000,  0.0000,  0.0000],\n",
      "        [ 0.0000,  0.0000,  0.0000,  0.0000],\n",
      "        [ 0.0000,  0.0000,  0.0000,  0.0000],\n",
      "        [ 0.0000,  0.0000,  0.0000,  0.0000],\n",
      "        [ 0.0000,  0.0000,  0.0000,  0.0000]])\n",
      "    * target (jet-parton matching): tensor([1, 2, 0, 1, 2, 1, 1, 1, 0, 0, 0, 0, 0, 0, 0])\n",
      "    * mask: tensor([ True,  True,  True,  True,  True,  True,  True,  True, False, False,\n",
      "        False, False, False, False, False])\n",
      "\n"
     ]
    }
   ],
   "source": [
    "for idx in range(3):\n",
    "    print(f'* {idx=}')\n",
    "    print(f'    * data (jets): {batch.data[idx]}')\n",
    "    print(f'    * target (jet-parton matching): {batch.target[idx]}')\n",
    "    print(f'    * mask: {batch.mask[idx]}')\n",
    "    print()"
   ]
  },
  {
   "cell_type": "markdown",
   "metadata": {},
   "source": [
    "we can also pass `collate` to `DataLaoder`. Each batch has a different length."
   ]
  },
  {
   "cell_type": "code",
   "execution_count": 10,
   "metadata": {},
   "outputs": [
    {
     "name": "stdout",
     "output_type": "stream",
     "text": [
      "batch.data.shape=torch.Size([32, 15, 4])\n",
      "batch.data.shape=torch.Size([32, 13, 4])\n",
      "batch.data.shape=torch.Size([32, 16, 4])\n",
      "batch.data.shape=torch.Size([32, 16, 4])\n",
      "batch.data.shape=torch.Size([32, 16, 4])\n",
      "batch.data.shape=torch.Size([32, 12, 4])\n",
      "batch.data.shape=torch.Size([32, 14, 4])\n",
      "batch.data.shape=torch.Size([32, 12, 4])\n",
      "batch.data.shape=torch.Size([32, 14, 4])\n",
      "batch.data.shape=torch.Size([32, 12, 4])\n",
      "batch.data.shape=torch.Size([32, 16, 4])\n",
      "batch.data.shape=torch.Size([32, 13, 4])\n"
     ]
    }
   ],
   "source": [
    "data_loader = DataLoader(dataset, batch_size=32, collate_fn=dataset.collate)\n",
    "for idx, batch in enumerate(data_loader):\n",
    "    print(f'{batch.data.shape=}')\n",
    "    \n",
    "    if idx > 10:\n",
    "        break"
   ]
  }
 ],
 "metadata": {
  "kernelspec": {
   "display_name": "SaJa (Python 3.10)",
   "language": "python",
   "name": "saja-py310"
  },
  "language_info": {
   "codemirror_mode": {
    "name": "ipython",
    "version": 3
   },
   "file_extension": ".py",
   "mimetype": "text/x-python",
   "name": "python",
   "nbconvert_exporter": "python",
   "pygments_lexer": "ipython3",
   "version": "3.10.9"
  }
 },
 "nbformat": 4,
 "nbformat_minor": 4
}
